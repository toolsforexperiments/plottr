{
 "cells": [
  {
   "cell_type": "code",
   "execution_count": 1,
   "metadata": {},
   "outputs": [],
   "source": [
    "%load_ext autoreload\n",
    "%autoreload 2\n",
    "%gui qt"
   ]
  },
  {
   "cell_type": "code",
   "execution_count": 2,
   "metadata": {},
   "outputs": [],
   "source": [
    "from typing import Tuple\n",
    "import numpy as np"
   ]
  },
  {
   "cell_type": "code",
   "execution_count": 3,
   "metadata": {},
   "outputs": [],
   "source": [
    "from plottr.apps.autoplot import autoplot\n",
    "from plottr.plot.pyqtgraph.autoplot import AutoPlot\n"
   ]
  },
  {
   "cell_type": "code",
   "execution_count": 4,
   "metadata": {},
   "outputs": [],
   "source": [
    "from plottr.data.datadict import DataDict, MeshgridDataDict"
   ]
  },
  {
   "cell_type": "code",
   "execution_count": 5,
   "metadata": {},
   "outputs": [],
   "source": [
    "def oscillating_test_data(*specs: Tuple[float, float, int], amp=1, of=0):\n",
    "    axes = np.meshgrid(*[np.arange(n) for _, _, n in specs], indexing='ij')\n",
    "    data = amp * np.prod(np.array([np.cos(2*np.pi*(f*x+p)) \n",
    "                                   for x, (f, p, _) in zip(axes, specs)]), axis=0) \\\n",
    "           + np.random.normal(loc=0, scale=1, size=(axes[0].shape)) + of\n",
    "    dd = MeshgridDataDict()\n",
    "    for i, a in enumerate(axes):\n",
    "        dd[f'axis_{i}'] = dict(values=a)\n",
    "    dd['data'] = dict(\n",
    "        axes=[f'axis_{i}' for i in range(len(specs))],\n",
    "        values=data\n",
    "    )\n",
    "    dd.validate()\n",
    "    return dd\n"
   ]
  },
  {
   "cell_type": "code",
   "execution_count": 6,
   "metadata": {},
   "outputs": [
    {
     "data": {
      "text/plain": [
       "669.12"
      ]
     },
     "execution_count": 6,
     "metadata": {},
     "output_type": "execute_result"
    }
   ],
   "source": [
    "data = oscillating_test_data(\n",
    "    (0, 0, 10000),\n",
    "    (1/10, 0, 51),\n",
    "    (1/20, 0.25, 41),\n",
    "    amp=5,\n",
    ")\n",
    "data.nbytes()*1e-6"
   ]
  },
  {
   "cell_type": "code",
   "execution_count": 7,
   "metadata": {},
   "outputs": [
    {
     "data": {
      "text/plain": [
       "0.050184"
      ]
     },
     "execution_count": 7,
     "metadata": {},
     "output_type": "execute_result"
    }
   ],
   "source": [
    "data2 = data.mean('axis_0')\n",
    "data2.nbytes()*1e-6"
   ]
  },
  {
   "cell_type": "code",
   "execution_count": 14,
   "metadata": {},
   "outputs": [],
   "source": [
    "fc, win = autoplot(plotWidgetClass=AutoPlot)\n",
    "win.setInput(data=data)"
   ]
  },
  {
   "cell_type": "code",
   "execution_count": 8,
   "metadata": {},
   "outputs": [
    {
     "name": "stderr",
     "output_type": "stream",
     "text": [
      "/home/wp/miniconda3/envs/msmt-pyqt5/lib/python3.11/site-packages/numpy/ma/core.py:467: RuntimeWarning: invalid value encountered in cast\n",
      "  fill_value = np.array(fill_value, copy=False, dtype=ndtype)\n"
     ]
    }
   ],
   "source": [
    "fc2, win2 = autoplot(plotWidgetClass=AutoPlot)\n",
    "win2.setInput(data=data2)"
   ]
  },
  {
   "cell_type": "code",
   "execution_count": null,
   "metadata": {},
   "outputs": [],
   "source": []
  }
 ],
 "metadata": {
  "kernelspec": {
   "display_name": "msmt-pyqt5",
   "language": "python",
   "name": "python3"
  },
  "language_info": {
   "codemirror_mode": {
    "name": "ipython",
    "version": 3
   },
   "file_extension": ".py",
   "mimetype": "text/x-python",
   "name": "python",
   "nbconvert_exporter": "python",
   "pygments_lexer": "ipython3",
   "version": "3.11.0"
  },
  "orig_nbformat": 4,
  "vscode": {
   "interpreter": {
    "hash": "6610d0d223300651404277538dfc70a7466493daba40fceb6aa864c596042666"
   }
  }
 },
 "nbformat": 4,
 "nbformat_minor": 2
}
